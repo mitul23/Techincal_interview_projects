{
 "cells": [
  {
   "cell_type": "markdown",
   "metadata": {
    "colab_type": "text",
    "id": "DxFUF8ga4aT6"
   },
   "source": [
    "Import necessary libraries"
   ]
  },
  {
   "cell_type": "code",
   "execution_count": 0,
   "metadata": {
    "colab": {},
    "colab_type": "code",
    "id": "5qSBCPoA4aUA"
   },
   "outputs": [],
   "source": [
    "import pandas as pd\n",
    "import matplotlib.pyplot as plt\n",
    "import seaborn as sns\n",
    "import numpy as np\n",
    "import plotly.express as px\n",
    "from scipy import stats\n",
    "\n",
    "%matplotlib inline"
   ]
  },
  {
   "cell_type": "markdown",
   "metadata": {
    "colab_type": "text",
    "id": "tci5MBNd4aUF"
   },
   "source": [
    "# EDA "
   ]
  },
  {
   "cell_type": "markdown",
   "metadata": {
    "colab_type": "text",
    "id": "_1uevAa94aUG"
   },
   "source": [
    "Explore the datasets- the employees data consists of 8 columns and the demographic consists of 13 columns. \\\n",
    "The goal of the project is to answer following questions; \\\n",
    "1] Who are the top ten people with the highest salary? \\\n",
    "2] Which state has the highest collective salary? \\\n",
    "3] Which state has the most employees working at MegaCorp?"
   ]
  },
  {
   "cell_type": "code",
   "execution_count": 0,
   "metadata": {
    "colab": {},
    "colab_type": "code",
    "id": "dWUkwl-3sdqa"
   },
   "outputs": [],
   "source": [
    "url = 'https://hiring-on-live-at-shareworks.s3.amazonaws.com/employee_data.csv.bz2'\n",
    "url2 = 'https://hiring-on-live-at-shareworks.s3.amazonaws.com/demographic_data.csv.bz2'\n",
    "employee = pd.read_csv(url)\n",
    "demographic = pd.read_csv(url2)"
   ]
  },
  {
   "cell_type": "code",
   "execution_count": 3,
   "metadata": {
    "colab": {
     "base_uri": "https://localhost:8080/",
     "height": 111
    },
    "colab_type": "code",
    "id": "9gS4hCnR4aUI",
    "outputId": "5d199689-09f6-460e-c4bf-c385b725ada5"
   },
   "outputs": [
    {
     "data": {
      "text/html": [
       "<div>\n",
       "<style scoped>\n",
       "    .dataframe tbody tr th:only-of-type {\n",
       "        vertical-align: middle;\n",
       "    }\n",
       "\n",
       "    .dataframe tbody tr th {\n",
       "        vertical-align: top;\n",
       "    }\n",
       "\n",
       "    .dataframe thead th {\n",
       "        text-align: right;\n",
       "    }\n",
       "</style>\n",
       "<table border=\"1\" class=\"dataframe\">\n",
       "  <thead>\n",
       "    <tr style=\"text-align: right;\">\n",
       "      <th></th>\n",
       "      <th>Employee Number</th>\n",
       "      <th>SSN</th>\n",
       "      <th>GIN</th>\n",
       "      <th>Employee Start Date</th>\n",
       "      <th>Work Phone Number</th>\n",
       "      <th>Work Phone Extension</th>\n",
       "      <th>Company Email Address</th>\n",
       "      <th>Salary</th>\n",
       "    </tr>\n",
       "  </thead>\n",
       "  <tbody>\n",
       "    <tr>\n",
       "      <th>0</th>\n",
       "      <td>MXESC71DBJAV217S</td>\n",
       "      <td>833-89-7281</td>\n",
       "      <td>NaN</td>\n",
       "      <td>2018-01-19</td>\n",
       "      <td>(322)919-2663</td>\n",
       "      <td>4730.0</td>\n",
       "      <td>benjaminashley@hotmail.com</td>\n",
       "      <td>93969.33</td>\n",
       "    </tr>\n",
       "    <tr>\n",
       "      <th>1</th>\n",
       "      <td>N11KZNKWH6WBK0AS</td>\n",
       "      <td>279-44-2127</td>\n",
       "      <td>NaN</td>\n",
       "      <td>1997-10-05</td>\n",
       "      <td>7363157315</td>\n",
       "      <td>NaN</td>\n",
       "      <td>scott56@burns.org</td>\n",
       "      <td>122429.09</td>\n",
       "    </tr>\n",
       "  </tbody>\n",
       "</table>\n",
       "</div>"
      ],
      "text/plain": [
       "    Employee Number          SSN  ...       Company Email Address     Salary\n",
       "0  MXESC71DBJAV217S  833-89-7281  ...  benjaminashley@hotmail.com   93969.33\n",
       "1  N11KZNKWH6WBK0AS  279-44-2127  ...           scott56@burns.org  122429.09\n",
       "\n",
       "[2 rows x 8 columns]"
      ]
     },
     "execution_count": 3,
     "metadata": {
      "tags": []
     },
     "output_type": "execute_result"
    }
   ],
   "source": [
    "employee.head(2)"
   ]
  },
  {
   "cell_type": "code",
   "execution_count": 4,
   "metadata": {
    "colab": {
     "base_uri": "https://localhost:8080/",
     "height": 230
    },
    "colab_type": "code",
    "id": "wDl-qWGu4aUU",
    "outputId": "77bd5589-098a-403a-a55d-aa0def84e3da"
   },
   "outputs": [
    {
     "data": {
      "text/html": [
       "<div>\n",
       "<style scoped>\n",
       "    .dataframe tbody tr th:only-of-type {\n",
       "        vertical-align: middle;\n",
       "    }\n",
       "\n",
       "    .dataframe tbody tr th {\n",
       "        vertical-align: top;\n",
       "    }\n",
       "\n",
       "    .dataframe thead th {\n",
       "        text-align: right;\n",
       "    }\n",
       "</style>\n",
       "<table border=\"1\" class=\"dataframe\">\n",
       "  <thead>\n",
       "    <tr style=\"text-align: right;\">\n",
       "      <th></th>\n",
       "      <th>Employee Number</th>\n",
       "      <th>First Name</th>\n",
       "      <th>Last Name</th>\n",
       "      <th>Middle Name</th>\n",
       "      <th>Date of Birth</th>\n",
       "      <th>Home Address: Street</th>\n",
       "      <th>Home Address: Suite</th>\n",
       "      <th>Home Address: City</th>\n",
       "      <th>Home Address: State/Province</th>\n",
       "      <th>Home Address: Country</th>\n",
       "      <th>Home Address: ZIP/Postal</th>\n",
       "      <th>ADDRESS_LINE_4</th>\n",
       "      <th>CELL/MOBILE_NO</th>\n",
       "    </tr>\n",
       "  </thead>\n",
       "  <tbody>\n",
       "    <tr>\n",
       "      <th>0</th>\n",
       "      <td>MXESC71DBJAV217S</td>\n",
       "      <td>James</td>\n",
       "      <td>Gibson</td>\n",
       "      <td>Anthony</td>\n",
       "      <td>1999-07-07</td>\n",
       "      <td>402 Kenneth Mission Apt. 182</td>\n",
       "      <td>2515.0</td>\n",
       "      <td>Lake Victoriabury</td>\n",
       "      <td>New Jersey</td>\n",
       "      <td>US</td>\n",
       "      <td>18410</td>\n",
       "      <td>NaN</td>\n",
       "      <td>278-437-2933</td>\n",
       "    </tr>\n",
       "    <tr>\n",
       "      <th>1</th>\n",
       "      <td>N11KZNKWH6WBK0AS</td>\n",
       "      <td>Michael</td>\n",
       "      <td>Newman</td>\n",
       "      <td>NaN</td>\n",
       "      <td>1962-10-22</td>\n",
       "      <td>80733 Martinez Dam</td>\n",
       "      <td>NaN</td>\n",
       "      <td>Reyesshire</td>\n",
       "      <td>Vermont</td>\n",
       "      <td>US</td>\n",
       "      <td>2919</td>\n",
       "      <td>NaN</td>\n",
       "      <td>001-143-707-8726</td>\n",
       "    </tr>\n",
       "  </tbody>\n",
       "</table>\n",
       "</div>"
      ],
      "text/plain": [
       "    Employee Number First Name  ... ADDRESS_LINE_4    CELL/MOBILE_NO\n",
       "0  MXESC71DBJAV217S      James  ...            NaN      278-437-2933\n",
       "1  N11KZNKWH6WBK0AS    Michael  ...            NaN  001-143-707-8726\n",
       "\n",
       "[2 rows x 13 columns]"
      ]
     },
     "execution_count": 4,
     "metadata": {
      "tags": []
     },
     "output_type": "execute_result"
    }
   ],
   "source": [
    "demographic.head(2)"
   ]
  },
  {
   "cell_type": "code",
   "execution_count": 5,
   "metadata": {
    "colab": {
     "base_uri": "https://localhost:8080/",
     "height": 34
    },
    "colab_type": "code",
    "id": "C505UFee4aUb",
    "outputId": "1a994075-d11c-41c2-a3e5-b48ce13a1437"
   },
   "outputs": [
    {
     "name": "stdout",
     "output_type": "stream",
     "text": [
      "Size of the employee and demographic data respectively: (4000000, 8), (4000000, 13)\n"
     ]
    }
   ],
   "source": [
    "print('Size of the employee and demographic data respectively: {}, {}'.format(employee.shape, demographic.shape))"
   ]
  },
  {
   "cell_type": "markdown",
   "metadata": {
    "colab_type": "text",
    "id": "EoUTLgzT01HF"
   },
   "source": [
    "We can combine the two datasets on the 'Employee number' which is common to \n",
    "both datasets. Once merged it is easy to analyse the data further."
   ]
  },
  {
   "cell_type": "code",
   "execution_count": 6,
   "metadata": {
    "colab": {
     "base_uri": "https://localhost:8080/",
     "height": 479
    },
    "colab_type": "code",
    "id": "0rT1Pmn-zh-O",
    "outputId": "31ca67ac-9a30-47e4-fe14-d1130c98c1d8"
   },
   "outputs": [
    {
     "data": {
      "text/html": [
       "<div>\n",
       "<style scoped>\n",
       "    .dataframe tbody tr th:only-of-type {\n",
       "        vertical-align: middle;\n",
       "    }\n",
       "\n",
       "    .dataframe tbody tr th {\n",
       "        vertical-align: top;\n",
       "    }\n",
       "\n",
       "    .dataframe thead th {\n",
       "        text-align: right;\n",
       "    }\n",
       "</style>\n",
       "<table border=\"1\" class=\"dataframe\">\n",
       "  <thead>\n",
       "    <tr style=\"text-align: right;\">\n",
       "      <th></th>\n",
       "      <th>Employee Number</th>\n",
       "      <th>SSN</th>\n",
       "      <th>GIN</th>\n",
       "      <th>Employee Start Date</th>\n",
       "      <th>Work Phone Number</th>\n",
       "      <th>Work Phone Extension</th>\n",
       "      <th>Company Email Address</th>\n",
       "      <th>Salary</th>\n",
       "      <th>First Name</th>\n",
       "      <th>Last Name</th>\n",
       "      <th>Middle Name</th>\n",
       "      <th>Date of Birth</th>\n",
       "      <th>Home Address: Street</th>\n",
       "      <th>Home Address: Suite</th>\n",
       "      <th>Home Address: City</th>\n",
       "      <th>Home Address: State/Province</th>\n",
       "      <th>Home Address: Country</th>\n",
       "      <th>Home Address: ZIP/Postal</th>\n",
       "      <th>ADDRESS_LINE_4</th>\n",
       "      <th>CELL/MOBILE_NO</th>\n",
       "    </tr>\n",
       "  </thead>\n",
       "  <tbody>\n",
       "    <tr>\n",
       "      <th>0</th>\n",
       "      <td>MXESC71DBJAV217S</td>\n",
       "      <td>833-89-7281</td>\n",
       "      <td>NaN</td>\n",
       "      <td>2018-01-19</td>\n",
       "      <td>(322)919-2663</td>\n",
       "      <td>4730.0</td>\n",
       "      <td>benjaminashley@hotmail.com</td>\n",
       "      <td>93969.33</td>\n",
       "      <td>James</td>\n",
       "      <td>Gibson</td>\n",
       "      <td>Anthony</td>\n",
       "      <td>1999-07-07</td>\n",
       "      <td>402 Kenneth Mission Apt. 182</td>\n",
       "      <td>2515.0</td>\n",
       "      <td>Lake Victoriabury</td>\n",
       "      <td>New Jersey</td>\n",
       "      <td>US</td>\n",
       "      <td>18410</td>\n",
       "      <td>NaN</td>\n",
       "      <td>278-437-2933</td>\n",
       "    </tr>\n",
       "    <tr>\n",
       "      <th>1</th>\n",
       "      <td>N11KZNKWH6WBK0AS</td>\n",
       "      <td>279-44-2127</td>\n",
       "      <td>NaN</td>\n",
       "      <td>1997-10-05</td>\n",
       "      <td>7363157315</td>\n",
       "      <td>NaN</td>\n",
       "      <td>scott56@burns.org</td>\n",
       "      <td>122429.09</td>\n",
       "      <td>Michael</td>\n",
       "      <td>Newman</td>\n",
       "      <td>NaN</td>\n",
       "      <td>1962-10-22</td>\n",
       "      <td>80733 Martinez Dam</td>\n",
       "      <td>NaN</td>\n",
       "      <td>Reyesshire</td>\n",
       "      <td>Vermont</td>\n",
       "      <td>US</td>\n",
       "      <td>2919</td>\n",
       "      <td>NaN</td>\n",
       "      <td>001-143-707-8726</td>\n",
       "    </tr>\n",
       "    <tr>\n",
       "      <th>2</th>\n",
       "      <td>Y964R1P84V3ENOTH</td>\n",
       "      <td>125-14-2092</td>\n",
       "      <td>NaN</td>\n",
       "      <td>2005-03-16</td>\n",
       "      <td>001-715-193-7453</td>\n",
       "      <td>NaN</td>\n",
       "      <td>ccamacho@whitaker-alexander.net</td>\n",
       "      <td>73471.09</td>\n",
       "      <td>Amy</td>\n",
       "      <td>Davis</td>\n",
       "      <td>James</td>\n",
       "      <td>1979-02-03</td>\n",
       "      <td>5963 Danielle Manor Apt. 161</td>\n",
       "      <td>3533.0</td>\n",
       "      <td>Port Jamesport</td>\n",
       "      <td>Tennessee</td>\n",
       "      <td>US</td>\n",
       "      <td>98819</td>\n",
       "      <td>NaN</td>\n",
       "      <td>226-702-7024</td>\n",
       "    </tr>\n",
       "    <tr>\n",
       "      <th>3</th>\n",
       "      <td>IHUAZU84U8R8HTJR</td>\n",
       "      <td>486-06-5545</td>\n",
       "      <td>NaN</td>\n",
       "      <td>2018-09-21</td>\n",
       "      <td>494.136.5034</td>\n",
       "      <td>187.0</td>\n",
       "      <td>yroberts@stephens.com</td>\n",
       "      <td>27092.79</td>\n",
       "      <td>Stephen</td>\n",
       "      <td>Stevenson</td>\n",
       "      <td>NaN</td>\n",
       "      <td>1998-12-12</td>\n",
       "      <td>082 Snow Prairie</td>\n",
       "      <td>NaN</td>\n",
       "      <td>Lake Kyle</td>\n",
       "      <td>Tennessee</td>\n",
       "      <td>US</td>\n",
       "      <td>38015</td>\n",
       "      <td>NaN</td>\n",
       "      <td>+1-576-588-5354</td>\n",
       "    </tr>\n",
       "    <tr>\n",
       "      <th>4</th>\n",
       "      <td>KANWNQGQEHWK65YW</td>\n",
       "      <td>323-32-0438</td>\n",
       "      <td>NaN</td>\n",
       "      <td>1989-03-11</td>\n",
       "      <td>545-168-1402</td>\n",
       "      <td>79483.0</td>\n",
       "      <td>ravenbailey@gmail.com</td>\n",
       "      <td>33744.05</td>\n",
       "      <td>Christopher</td>\n",
       "      <td>Hansen</td>\n",
       "      <td>Omar</td>\n",
       "      <td>1958-06-27</td>\n",
       "      <td>6135 Cynthia Via Apt. 964</td>\n",
       "      <td>NaN</td>\n",
       "      <td>Port Jacob</td>\n",
       "      <td>Georgia</td>\n",
       "      <td>US</td>\n",
       "      <td>60676</td>\n",
       "      <td>NaN</td>\n",
       "      <td>(394)208-1399</td>\n",
       "    </tr>\n",
       "  </tbody>\n",
       "</table>\n",
       "</div>"
      ],
      "text/plain": [
       "    Employee Number          SSN  ...  ADDRESS_LINE_4    CELL/MOBILE_NO\n",
       "0  MXESC71DBJAV217S  833-89-7281  ...             NaN      278-437-2933\n",
       "1  N11KZNKWH6WBK0AS  279-44-2127  ...             NaN  001-143-707-8726\n",
       "2  Y964R1P84V3ENOTH  125-14-2092  ...             NaN      226-702-7024\n",
       "3  IHUAZU84U8R8HTJR  486-06-5545  ...             NaN   +1-576-588-5354\n",
       "4  KANWNQGQEHWK65YW  323-32-0438  ...             NaN     (394)208-1399\n",
       "\n",
       "[5 rows x 20 columns]"
      ]
     },
     "execution_count": 6,
     "metadata": {
      "tags": []
     },
     "output_type": "execute_result"
    }
   ],
   "source": [
    "df = pd.merge(employee, demographic, on='Employee Number')\n",
    "df.head()"
   ]
  },
  {
   "cell_type": "code",
   "execution_count": 7,
   "metadata": {
    "colab": {
     "base_uri": "https://localhost:8080/",
     "height": 34
    },
    "colab_type": "code",
    "id": "ZZDKSf181Afo",
    "outputId": "ee9b9a85-ad23-4a24-9723-af16f978194c"
   },
   "outputs": [
    {
     "name": "stdout",
     "output_type": "stream",
     "text": [
      "Size of the entire data: (4000000, 20)\n"
     ]
    }
   ],
   "source": [
    "print('Size of the entire data: {}'.format(df.shape))"
   ]
  },
  {
   "cell_type": "markdown",
   "metadata": {
    "colab_type": "text",
    "id": "WeojWEqJ4aUm"
   },
   "source": [
    "Let's start with some EDA. We will first look at how much of the data is missing. Since the focus here is on the Employee['Salary'] column, we can fill in any missing data with the median. Although the salary depends on the job title and experience level, at this point we do not have either of these informations. The median would therefore be a best option to fill in missing data, as the outliers don't affect median as much as it affects mean. "
   ]
  },
  {
   "cell_type": "code",
   "execution_count": 8,
   "metadata": {
    "colab": {
     "base_uri": "https://localhost:8080/",
     "height": 34
    },
    "colab_type": "code",
    "id": "ZIEYIs254aUp",
    "outputId": "8577cd71-88a1-4d4f-bec7-fea2f6970611"
   },
   "outputs": [
    {
     "data": {
      "text/plain": [
       "0"
      ]
     },
     "execution_count": 8,
     "metadata": {
      "tags": []
     },
     "output_type": "execute_result"
    }
   ],
   "source": [
    "df['Salary'].isnull().sum()"
   ]
  },
  {
   "cell_type": "markdown",
   "metadata": {
    "colab_type": "text",
    "id": "gjOme-mzvwKk"
   },
   "source": [
    "We seem to have no missing data, which is good! Let's now check some basic stats on the salary column."
   ]
  },
  {
   "cell_type": "code",
   "execution_count": 9,
   "metadata": {
    "colab": {
     "base_uri": "https://localhost:8080/",
     "height": 170
    },
    "colab_type": "code",
    "id": "4P6eElsJ4aU7",
    "outputId": "b17e26ac-a015-4faf-fbc3-adf36abee1a9"
   },
   "outputs": [
    {
     "data": {
      "text/plain": [
       "count   4000000.00\n",
       "mean      55161.32\n",
       "std       32816.53\n",
       "min           0.00\n",
       "25%       31001.85\n",
       "50%       54314.48\n",
       "75%       77606.03\n",
       "max      229539.74\n",
       "Name: Salary, dtype: float64"
      ]
     },
     "execution_count": 9,
     "metadata": {
      "tags": []
     },
     "output_type": "execute_result"
    }
   ],
   "source": [
    "pd.options.display.float_format = '{:.2f}'.format\n",
    "df['Salary'].describe()"
   ]
  },
  {
   "cell_type": "markdown",
   "metadata": {
    "colab_type": "text",
    "id": "P-hswLvJwNti"
   },
   "source": [
    "The mean salary of the employees is around 55k with the standard deviation of about 33k. Some employees seems to have very high salary as can be noted from max, although mean is still around 55k. We also have minimum salary of zero.  We can visualize this information."
   ]
  },
  {
   "cell_type": "code",
   "execution_count": 10,
   "metadata": {
    "colab": {
     "base_uri": "https://localhost:8080/",
     "height": 285
    },
    "colab_type": "code",
    "id": "C4PZC2zn4aVS",
    "outputId": "6863e121-ab4b-4408-f972-35dd055d6f1e"
   },
   "outputs": [
    {
     "data": {
      "image/png": "[encoded data removed]",
      "text/plain": [
       "<Figure size 432x288 with 1 Axes>"
      ]
     },
     "metadata": {
      "tags": []
     },
     "output_type": "display_data"
    }
   ],
   "source": [
    "sns.set(style=\"whitegrid\")\n",
    "ax = sns.boxplot(x=df[\"Salary\"])"
   ]
  },
  {
   "cell_type": "code",
   "execution_count": 30,
   "metadata": {
    "colab": {
     "base_uri": "https://localhost:8080/",
     "height": 318
    },
    "colab_type": "code",
    "id": "gqKgYSXN6O9y",
    "outputId": "16fd2570-c3e6-4471-b842-e760d6c59feb"
   },
   "outputs": [
    {
     "data": {
      "text/plain": [
       "Text(0, 0.5, 'Density')"
      ]
     },
     "execution_count": 30,
     "metadata": {
      "tags": []
     },
     "output_type": "execute_result"
    },
    {
     "data": {
      "image/png": "[encoded data removed]",
      "text/plain": [
       "<Figure size 432x288 with 1 Axes>"
      ]
     },
     "metadata": {
      "tags": []
     },
     "output_type": "display_data"
    }
   ],
   "source": [
    "sns.distplot(df.Salary, hist=False) #this plot shows the distribution of the salary\n",
    "plt.title('Salary distrubution')\n",
    "plt.ylabel('Density')"
   ]
  },
  {
   "cell_type": "code",
   "execution_count": 31,
   "metadata": {
    "colab": {
     "base_uri": "https://localhost:8080/",
     "height": 293
    },
    "colab_type": "code",
    "id": "G8L0OOJ44aVk",
    "outputId": "70b03be2-df50-49d2-c43e-cfdaecfefa32"
   },
   "outputs": [
    {
     "data": {
      "image/png": "[encoded data removed]",
      "text/plain": [
       "<Figure size 432x288 with 1 Axes>"
      ]
     },
     "metadata": {
      "tags": []
     },
     "output_type": "display_data"
    }
   ],
   "source": [
    "# In this plot, I fit the probability density function using the estimated parameters \n",
    "# mean and S.D from the data. Compare it to the histogram and we see that it is a descent match. \n",
    "mu = 5.516132e+04  # mean of distribution\n",
    "sigma = 3.281653e+04  # standard deviation of distribution\n",
    "\n",
    "num_bins = 20\n",
    "\n",
    "fig, ax = plt.subplots()\n",
    "\n",
    "# the histogram of the data\n",
    "n, bins, patches = ax.hist(employee['Salary'], num_bins, density=1)\n",
    "\n",
    "# add a 'best fit' line\n",
    "y = ((1 / (np.sqrt(2 * np.pi) * sigma)) *\n",
    "     np.exp(-0.5 * (1 / sigma * (bins - mu))**2))\n",
    "ax.plot(bins, y, '--')\n",
    "ax.set_xlabel('employee_salary')\n",
    "ax.set_ylabel('Probability density')\n",
    "ax.set_title(r'Histogram of IQ: $\\mu=55161.32$, $\\sigma=32816.53$')\n",
    "\n",
    "# Tweak spacing to prevent clipping of ylabel\n",
    "fig.tight_layout()\n",
    "plt.show()"
   ]
  },
  {
   "cell_type": "code",
   "execution_count": 13,
   "metadata": {
    "colab": {
     "base_uri": "https://localhost:8080/",
     "height": 34
    },
    "colab_type": "code",
    "id": "wLOy5YYD6p0C",
    "outputId": "1c4a3280-af9a-49c2-eed1-28c46b992717"
   },
   "outputs": [
    {
     "data": {
      "text/plain": [
       "ModeResult(mode=array([0.]), count=array([231671]))"
      ]
     },
     "execution_count": 13,
     "metadata": {
      "tags": []
     },
     "output_type": "execute_result"
    }
   ],
   "source": [
    "stats.mode(df.Salary)"
   ]
  },
  {
   "cell_type": "markdown",
   "metadata": {
    "colab_type": "text",
    "id": "cKBVswT14aWI"
   },
   "source": [
    "Firstly, we see that there's no missing data in the Salary column. Secondly, the boxplot revels that there's lots of outliers. About 232k employees with zero salary. Definitely need further inspection to make sure they are really outliers. The histogram also shows that an abundance of people gets paid  ~ 54k. The employee income varies from 0 to  230k.\\\n"
   ]
  },
  {
   "cell_type": "markdown",
   "metadata": {
    "colab_type": "text",
    "id": "j2Jz7tAmElPv"
   },
   "source": [
    "Let's now investigate why we have employees with zero salary, the age distribution of the employees and how long the employees have been working at the company. In order to do these, first I convert the types of ['Date of Birth', 'Employee start date'] columns to datetime."
   ]
  },
  {
   "cell_type": "code",
   "execution_count": 14,
   "metadata": {
    "colab": {
     "base_uri": "https://localhost:8080/",
     "height": 374
    },
    "colab_type": "code",
    "id": "WjXMjs2H5qFd",
    "outputId": "5bb9ea50-8415-4822-8546-5660c277be39"
   },
   "outputs": [
    {
     "data": {
      "text/plain": [
       "Employee Number                  object\n",
       "SSN                              object\n",
       "GIN                             float64\n",
       "Employee Start Date              object\n",
       "Work Phone Number                object\n",
       "Work Phone Extension            float64\n",
       "Company Email Address            object\n",
       "Salary                          float64\n",
       "First Name                       object\n",
       "Last Name                        object\n",
       "Middle Name                      object\n",
       "Date of Birth                    object\n",
       "Home Address: Street             object\n",
       "Home Address: Suite             float64\n",
       "Home Address: City               object\n",
       "Home Address: State/Province     object\n",
       "Home Address: Country            object\n",
       "Home Address: ZIP/Postal          int64\n",
       "ADDRESS_LINE_4                  float64\n",
       "CELL/MOBILE_NO                   object\n",
       "dtype: object"
      ]
     },
     "execution_count": 14,
     "metadata": {
      "tags": []
     },
     "output_type": "execute_result"
    }
   ],
   "source": [
    "df.dtypes"
   ]
  },
  {
   "cell_type": "code",
   "execution_count": 0,
   "metadata": {
    "colab": {},
    "colab_type": "code",
    "id": "0hu9BtI87zNt"
   },
   "outputs": [],
   "source": [
    "df['Employee Start Date'] = pd.to_datetime(df['Employee Start Date'])\n",
    "df['Date of Birth'] = pd.to_datetime(df['Date of Birth'])"
   ]
  },
  {
   "cell_type": "code",
   "execution_count": 16,
   "metadata": {
    "colab": {
     "base_uri": "https://localhost:8080/",
     "height": 374
    },
    "colab_type": "code",
    "id": "6sZn7P0p7zLp",
    "outputId": "019d0b32-e51c-4433-c9d1-84d659339688"
   },
   "outputs": [
    {
     "data": {
      "text/plain": [
       "Employee Number                         object\n",
       "SSN                                     object\n",
       "GIN                                    float64\n",
       "Employee Start Date             datetime64[ns]\n",
       "Work Phone Number                       object\n",
       "Work Phone Extension                   float64\n",
       "Company Email Address                   object\n",
       "Salary                                 float64\n",
       "First Name                              object\n",
       "Last Name                               object\n",
       "Middle Name                             object\n",
       "Date of Birth                   datetime64[ns]\n",
       "Home Address: Street                    object\n",
       "Home Address: Suite                    float64\n",
       "Home Address: City                      object\n",
       "Home Address: State/Province            object\n",
       "Home Address: Country                   object\n",
       "Home Address: ZIP/Postal                 int64\n",
       "ADDRESS_LINE_4                         float64\n",
       "CELL/MOBILE_NO                          object\n",
       "dtype: object"
      ]
     },
     "execution_count": 16,
     "metadata": {
      "tags": []
     },
     "output_type": "execute_result"
    }
   ],
   "source": [
    "df.dtypes"
   ]
  },
  {
   "cell_type": "code",
   "execution_count": 17,
   "metadata": {
    "colab": {
     "base_uri": "https://localhost:8080/",
     "height": 153
    },
    "colab_type": "code",
    "id": "EUbRWNVn7y6w",
    "outputId": "8ed0183a-2a92-4335-ac27-cafdde8f5890"
   },
   "outputs": [
    {
     "name": "stdout",
     "output_type": "stream",
     "text": [
      "Employee Start Date   1967-08-12\n",
      "Date of Birth         1954-07-11\n",
      "dtype: datetime64[ns]\n",
      "\n",
      "\n",
      "Employee Start Date   2019-10-22\n",
      "Date of Birth         2005-04-23\n",
      "dtype: datetime64[ns]\n"
     ]
    }
   ],
   "source": [
    "print(df[['Employee Start Date', 'Date of Birth']].min())\n",
    "print('\\n')\n",
    "print(df[['Employee Start Date', 'Date of Birth']].max())\n"
   ]
  },
  {
   "cell_type": "markdown",
   "metadata": {
    "colab_type": "text",
    "id": "BrcdAOm-_1yL"
   },
   "source": [
    "Here we see that we have employees who joined the company in 1960's and are still at the company as well as the employees who recently joined the company. We can also see that the most recent employees who joined the company will be starting work at the end of the year, so that explains why we have lots of employees with zero salaries. "
   ]
  },
  {
   "cell_type": "markdown",
   "metadata": {
    "colab_type": "text",
    "id": "pOdg72hLFYSo"
   },
   "source": [
    "I will now add few new columns to the dataset, one will be the age of the employees column and the other will be years spent at the company."
   ]
  },
  {
   "cell_type": "code",
   "execution_count": 0,
   "metadata": {
    "colab": {},
    "colab_type": "code",
    "id": "ijSTxzYM_zXq"
   },
   "outputs": [],
   "source": [
    "import datetime\n",
    "from datetime import date\n",
    "\n",
    "def calculateAge(birthDate):\n",
    "    today = date.today()\n",
    "    age = today.year - birthDate.year - \\\n",
    "        ((today.month, today.day) < (birthDate.month, birthDate.day))\n",
    "    return age"
   ]
  },
  {
   "cell_type": "code",
   "execution_count": 0,
   "metadata": {
    "colab": {},
    "colab_type": "code",
    "id": "28Pswqk3BWdT"
   },
   "outputs": [],
   "source": [
    "Age = []\n",
    "for age in df['Date of Birth']:\n",
    "    Age.append(calculateAge(age))\n",
    "df['Employee Age'] = Age"
   ]
  },
  {
   "cell_type": "code",
   "execution_count": 0,
   "metadata": {
    "colab": {},
    "colab_type": "code",
    "id": "Q41tD60ABQUQ"
   },
   "outputs": [],
   "source": [
    "Age = []\n",
    "for age in df['Employee Start Date']:\n",
    "    Age.append(calculateAge(age))\n",
    "df['Years at Company'] = Age"
   ]
  },
  {
   "cell_type": "code",
   "execution_count": 21,
   "metadata": {
    "colab": {
     "base_uri": "https://localhost:8080/",
     "height": 479
    },
    "colab_type": "code",
    "id": "dadHxxYcC1QG",
    "outputId": "549c8632-456f-49e3-fc50-ff6854ce620a"
   },
   "outputs": [
    {
     "data": {
      "text/html": [
       "<div>\n",
       "<style scoped>\n",
       "    .dataframe tbody tr th:only-of-type {\n",
       "        vertical-align: middle;\n",
       "    }\n",
       "\n",
       "    .dataframe tbody tr th {\n",
       "        vertical-align: top;\n",
       "    }\n",
       "\n",
       "    .dataframe thead th {\n",
       "        text-align: right;\n",
       "    }\n",
       "</style>\n",
       "<table border=\"1\" class=\"dataframe\">\n",
       "  <thead>\n",
       "    <tr style=\"text-align: right;\">\n",
       "      <th></th>\n",
       "      <th>Employee Number</th>\n",
       "      <th>SSN</th>\n",
       "      <th>GIN</th>\n",
       "      <th>Employee Start Date</th>\n",
       "      <th>Work Phone Number</th>\n",
       "      <th>Work Phone Extension</th>\n",
       "      <th>Company Email Address</th>\n",
       "      <th>Salary</th>\n",
       "      <th>First Name</th>\n",
       "      <th>Last Name</th>\n",
       "      <th>Middle Name</th>\n",
       "      <th>Date of Birth</th>\n",
       "      <th>Home Address: Street</th>\n",
       "      <th>Home Address: Suite</th>\n",
       "      <th>Home Address: City</th>\n",
       "      <th>Home Address: State/Province</th>\n",
       "      <th>Home Address: Country</th>\n",
       "      <th>Home Address: ZIP/Postal</th>\n",
       "      <th>ADDRESS_LINE_4</th>\n",
       "      <th>CELL/MOBILE_NO</th>\n",
       "      <th>Employee Age</th>\n",
       "      <th>Years at Company</th>\n",
       "    </tr>\n",
       "  </thead>\n",
       "  <tbody>\n",
       "    <tr>\n",
       "      <th>0</th>\n",
       "      <td>MXESC71DBJAV217S</td>\n",
       "      <td>833-89-7281</td>\n",
       "      <td>nan</td>\n",
       "      <td>2018-01-19</td>\n",
       "      <td>(322)919-2663</td>\n",
       "      <td>4730.00</td>\n",
       "      <td>benjaminashley@hotmail.com</td>\n",
       "      <td>93969.33</td>\n",
       "      <td>James</td>\n",
       "      <td>Gibson</td>\n",
       "      <td>Anthony</td>\n",
       "      <td>1999-07-07</td>\n",
       "      <td>402 Kenneth Mission Apt. 182</td>\n",
       "      <td>2515.00</td>\n",
       "      <td>Lake Victoriabury</td>\n",
       "      <td>New Jersey</td>\n",
       "      <td>US</td>\n",
       "      <td>18410</td>\n",
       "      <td>nan</td>\n",
       "      <td>278-437-2933</td>\n",
       "      <td>20</td>\n",
       "      <td>1</td>\n",
       "    </tr>\n",
       "    <tr>\n",
       "      <th>1</th>\n",
       "      <td>N11KZNKWH6WBK0AS</td>\n",
       "      <td>279-44-2127</td>\n",
       "      <td>nan</td>\n",
       "      <td>1997-10-05</td>\n",
       "      <td>7363157315</td>\n",
       "      <td>nan</td>\n",
       "      <td>scott56@burns.org</td>\n",
       "      <td>122429.09</td>\n",
       "      <td>Michael</td>\n",
       "      <td>Newman</td>\n",
       "      <td>NaN</td>\n",
       "      <td>1962-10-22</td>\n",
       "      <td>80733 Martinez Dam</td>\n",
       "      <td>nan</td>\n",
       "      <td>Reyesshire</td>\n",
       "      <td>Vermont</td>\n",
       "      <td>US</td>\n",
       "      <td>2919</td>\n",
       "      <td>nan</td>\n",
       "      <td>001-143-707-8726</td>\n",
       "      <td>57</td>\n",
       "      <td>22</td>\n",
       "    </tr>\n",
       "    <tr>\n",
       "      <th>2</th>\n",
       "      <td>Y964R1P84V3ENOTH</td>\n",
       "      <td>125-14-2092</td>\n",
       "      <td>nan</td>\n",
       "      <td>2005-03-16</td>\n",
       "      <td>001-715-193-7453</td>\n",
       "      <td>nan</td>\n",
       "      <td>ccamacho@whitaker-alexander.net</td>\n",
       "      <td>73471.09</td>\n",
       "      <td>Amy</td>\n",
       "      <td>Davis</td>\n",
       "      <td>James</td>\n",
       "      <td>1979-02-03</td>\n",
       "      <td>5963 Danielle Manor Apt. 161</td>\n",
       "      <td>3533.00</td>\n",
       "      <td>Port Jamesport</td>\n",
       "      <td>Tennessee</td>\n",
       "      <td>US</td>\n",
       "      <td>98819</td>\n",
       "      <td>nan</td>\n",
       "      <td>226-702-7024</td>\n",
       "      <td>40</td>\n",
       "      <td>14</td>\n",
       "    </tr>\n",
       "    <tr>\n",
       "      <th>3</th>\n",
       "      <td>IHUAZU84U8R8HTJR</td>\n",
       "      <td>486-06-5545</td>\n",
       "      <td>nan</td>\n",
       "      <td>2018-09-21</td>\n",
       "      <td>494.136.5034</td>\n",
       "      <td>187.00</td>\n",
       "      <td>yroberts@stephens.com</td>\n",
       "      <td>27092.79</td>\n",
       "      <td>Stephen</td>\n",
       "      <td>Stevenson</td>\n",
       "      <td>NaN</td>\n",
       "      <td>1998-12-12</td>\n",
       "      <td>082 Snow Prairie</td>\n",
       "      <td>nan</td>\n",
       "      <td>Lake Kyle</td>\n",
       "      <td>Tennessee</td>\n",
       "      <td>US</td>\n",
       "      <td>38015</td>\n",
       "      <td>nan</td>\n",
       "      <td>+1-576-588-5354</td>\n",
       "      <td>20</td>\n",
       "      <td>1</td>\n",
       "    </tr>\n",
       "    <tr>\n",
       "      <th>4</th>\n",
       "      <td>KANWNQGQEHWK65YW</td>\n",
       "      <td>323-32-0438</td>\n",
       "      <td>nan</td>\n",
       "      <td>1989-03-11</td>\n",
       "      <td>545-168-1402</td>\n",
       "      <td>79483.00</td>\n",
       "      <td>ravenbailey@gmail.com</td>\n",
       "      <td>33744.05</td>\n",
       "      <td>Christopher</td>\n",
       "      <td>Hansen</td>\n",
       "      <td>Omar</td>\n",
       "      <td>1958-06-27</td>\n",
       "      <td>6135 Cynthia Via Apt. 964</td>\n",
       "      <td>nan</td>\n",
       "      <td>Port Jacob</td>\n",
       "      <td>Georgia</td>\n",
       "      <td>US</td>\n",
       "      <td>60676</td>\n",
       "      <td>nan</td>\n",
       "      <td>(394)208-1399</td>\n",
       "      <td>61</td>\n",
       "      <td>30</td>\n",
       "    </tr>\n",
       "  </tbody>\n",
       "</table>\n",
       "</div>"
      ],
      "text/plain": [
       "    Employee Number          SSN  ...  Employee Age Years at Company\n",
       "0  MXESC71DBJAV217S  833-89-7281  ...            20                1\n",
       "1  N11KZNKWH6WBK0AS  279-44-2127  ...            57               22\n",
       "2  Y964R1P84V3ENOTH  125-14-2092  ...            40               14\n",
       "3  IHUAZU84U8R8HTJR  486-06-5545  ...            20                1\n",
       "4  KANWNQGQEHWK65YW  323-32-0438  ...            61               30\n",
       "\n",
       "[5 rows x 22 columns]"
      ]
     },
     "execution_count": 21,
     "metadata": {
      "tags": []
     },
     "output_type": "execute_result"
    }
   ],
   "source": [
    "df.head()"
   ]
  },
  {
   "cell_type": "code",
   "execution_count": 22,
   "metadata": {
    "colab": {
     "base_uri": "https://localhost:8080/",
     "height": 34
    },
    "colab_type": "code",
    "id": "jqDiUMeKC1OV",
    "outputId": "c06c7e4a-ab18-4f2f-b53d-cc0743b009ed"
   },
   "outputs": [
    {
     "name": "stdout",
     "output_type": "stream",
     "text": [
      "Average Number of Years at the company for currently active employees: 12.95 years\n"
     ]
    }
   ],
   "source": [
    "print('Average Number of Years at the company for currently active employees: {:.2f} years'.format(df['Years at Company'].mean()))"
   ]
  },
  {
   "cell_type": "code",
   "execution_count": 23,
   "metadata": {
    "colab": {
     "base_uri": "https://localhost:8080/",
     "height": 34
    },
    "colab_type": "code",
    "id": "027gwVsAC1L0",
    "outputId": "e90b130a-02ba-43db-addc-9830bbaebfed"
   },
   "outputs": [
    {
     "name": "stdout",
     "output_type": "stream",
     "text": [
      "Number of Years at the company varies from 0 to 52 years.\n"
     ]
    }
   ],
   "source": [
    "print(\"Number of Years at the company varies from {} to {} years.\".format(df['Years at Company'].min(), df['Years at Company'].max()))"
   ]
  },
  {
   "cell_type": "markdown",
   "metadata": {
    "colab_type": "text",
    "id": "bSJJogVxFvt6"
   },
   "source": [
    "We see that the average is definitely low given the number of years spent at the company varies from 0 to 52. This is because there's lot of employees who recently joined the company. We can also note this from the distribution below."
   ]
  },
  {
   "cell_type": "code",
   "execution_count": 32,
   "metadata": {
    "colab": {
     "base_uri": "https://localhost:8080/",
     "height": 318
    },
    "colab_type": "code",
    "id": "Lu_tlrbbC1KU",
    "outputId": "4c90d90d-a40a-4fc5-ed18-b4151d6c1a14"
   },
   "outputs": [
    {
     "data": {
      "text/plain": [
       "Text(0, 0.5, 'Density')"
      ]
     },
     "execution_count": 32,
     "metadata": {
      "tags": []
     },
     "output_type": "execute_result"
    },
    {
     "data": {
      "image/png": "[encoded data removed]",
      "text/plain": [
       "<Figure size 432x288 with 1 Axes>"
      ]
     },
     "metadata": {
      "tags": []
     },
     "output_type": "display_data"
    }
   ],
   "source": [
    "sns.distplot(df['Years at Company'],hist=False)\n",
    "plt.title('Years at Company')\n",
    "plt.ylabel('Density')"
   ]
  },
  {
   "cell_type": "code",
   "execution_count": 34,
   "metadata": {
    "colab": {
     "base_uri": "https://localhost:8080/",
     "height": 34
    },
    "colab_type": "code",
    "id": "apabR9SdC1I-",
    "outputId": "336b73e6-ab6e-48bb-bd9b-d778b2aedb43"
   },
   "outputs": [
    {
     "name": "stdout",
     "output_type": "stream",
     "text": [
      "Current employees: average age = 39.4 years old and standard deviation = 14.7\n"
     ]
    }
   ],
   "source": [
    "print('Current employees: average age = {:.1f} years old and standard deviation = {:.1f}'.format(\n",
    "    df['Employee Age'].mean(), df['Employee Age'].std()))"
   ]
  },
  {
   "cell_type": "code",
   "execution_count": 33,
   "metadata": {
    "colab": {
     "base_uri": "https://localhost:8080/",
     "height": 318
    },
    "colab_type": "code",
    "id": "MmQkAzzSC1HU",
    "outputId": "861fef62-3f23-4b6d-cc3d-3d360620b2a5"
   },
   "outputs": [
    {
     "data": {
      "text/plain": [
       "Text(0, 0.5, 'density')"
      ]
     },
     "execution_count": 33,
     "metadata": {
      "tags": []
     },
     "output_type": "execute_result"
    },
    {
     "data": {
      "image/png": "[encoded data removed]",
      "text/plain": [
       "<Figure size 432x288 with 1 Axes>"
      ]
     },
     "metadata": {
      "tags": []
     },
     "output_type": "display_data"
    }
   ],
   "source": [
    "sns.distplot(df['Employee Age'],hist=False)\n",
    "plt.title('Age Distrubiton')\n",
    "plt.ylabel('density')"
   ]
  },
  {
   "cell_type": "code",
   "execution_count": 35,
   "metadata": {
    "colab": {
     "base_uri": "https://localhost:8080/",
     "height": 170
    },
    "colab_type": "code",
    "id": "Abx6RO9iC0_-",
    "outputId": "ef905ecb-b2c9-44b0-b5b1-adf81e2384ac"
   },
   "outputs": [
    {
     "data": {
      "text/plain": [
       "count   4000000.00\n",
       "mean         39.42\n",
       "std          14.67\n",
       "min          14.00\n",
       "25%          27.00\n",
       "50%          39.00\n",
       "75%          52.00\n",
       "max          65.00\n",
       "Name: Employee Age, dtype: float64"
      ]
     },
     "execution_count": 35,
     "metadata": {
      "tags": []
     },
     "output_type": "execute_result"
    }
   ],
   "source": [
    "df['Employee Age'].describe()"
   ]
  },
  {
   "cell_type": "markdown",
   "metadata": {
    "colab_type": "text",
    "id": "M4WRT3_tGyVL"
   },
   "source": [
    "Interestingly the company have employees as young as 14yrs old. Having done some exploration, I will answer the questions below."
   ]
  },
  {
   "cell_type": "markdown",
   "metadata": {
    "colab_type": "text",
    "id": "QlAm3I3w4aWr"
   },
   "source": [
    "# Who are the top ten people with the highest salary? "
   ]
  },
  {
   "cell_type": "markdown",
   "metadata": {
    "colab_type": "text",
    "id": "dvsw-fi34aXe"
   },
   "source": [
    "We can use python's builtin function .nlargest to get the largest n elements. Here's I have limited the columns to just Full name, state and salary. "
   ]
  },
  {
   "cell_type": "code",
   "execution_count": 27,
   "metadata": {
    "colab": {
     "base_uri": "https://localhost:8080/",
     "height": 359
    },
    "colab_type": "code",
    "id": "tihtK8-F4aap",
    "outputId": "9b420136-d2fc-42a7-857b-c7c90c22d908"
   },
   "outputs": [
    {
     "data": {
      "text/html": [
       "<div>\n",
       "<style scoped>\n",
       "    .dataframe tbody tr th:only-of-type {\n",
       "        vertical-align: middle;\n",
       "    }\n",
       "\n",
       "    .dataframe tbody tr th {\n",
       "        vertical-align: top;\n",
       "    }\n",
       "\n",
       "    .dataframe thead th {\n",
       "        text-align: right;\n",
       "    }\n",
       "</style>\n",
       "<table border=\"1\" class=\"dataframe\">\n",
       "  <thead>\n",
       "    <tr style=\"text-align: right;\">\n",
       "      <th></th>\n",
       "      <th>First Name</th>\n",
       "      <th>Last Name</th>\n",
       "      <th>Middle Name</th>\n",
       "      <th>Salary</th>\n",
       "      <th>Home Address: State/Province</th>\n",
       "    </tr>\n",
       "  </thead>\n",
       "  <tbody>\n",
       "    <tr>\n",
       "      <th>3905190</th>\n",
       "      <td>Destiny</td>\n",
       "      <td>Lyons</td>\n",
       "      <td>Mark</td>\n",
       "      <td>229539.74</td>\n",
       "      <td>Utah</td>\n",
       "    </tr>\n",
       "    <tr>\n",
       "      <th>3177489</th>\n",
       "      <td>Alexander</td>\n",
       "      <td>Patterson</td>\n",
       "      <td>NaN</td>\n",
       "      <td>228738.80</td>\n",
       "      <td>Virginia</td>\n",
       "    </tr>\n",
       "    <tr>\n",
       "      <th>2315870</th>\n",
       "      <td>Daniel</td>\n",
       "      <td>Hamilton</td>\n",
       "      <td>NaN</td>\n",
       "      <td>228378.05</td>\n",
       "      <td>Mississippi</td>\n",
       "    </tr>\n",
       "    <tr>\n",
       "      <th>3655643</th>\n",
       "      <td>Derrick</td>\n",
       "      <td>Pennington</td>\n",
       "      <td>Benjamin</td>\n",
       "      <td>227878.70</td>\n",
       "      <td>South Carolina</td>\n",
       "    </tr>\n",
       "    <tr>\n",
       "      <th>2899707</th>\n",
       "      <td>Dana</td>\n",
       "      <td>Williams</td>\n",
       "      <td>Douglas</td>\n",
       "      <td>224542.28</td>\n",
       "      <td>Minnesota</td>\n",
       "    </tr>\n",
       "    <tr>\n",
       "      <th>1445827</th>\n",
       "      <td>Amy</td>\n",
       "      <td>Brown</td>\n",
       "      <td>NaN</td>\n",
       "      <td>223935.60</td>\n",
       "      <td>Wisconsin</td>\n",
       "    </tr>\n",
       "    <tr>\n",
       "      <th>216327</th>\n",
       "      <td>Victoria</td>\n",
       "      <td>Williams</td>\n",
       "      <td>Robert</td>\n",
       "      <td>223854.54</td>\n",
       "      <td>Idaho</td>\n",
       "    </tr>\n",
       "    <tr>\n",
       "      <th>3790066</th>\n",
       "      <td>Misty</td>\n",
       "      <td>Jones</td>\n",
       "      <td>Tanya</td>\n",
       "      <td>221394.59</td>\n",
       "      <td>New Mexico</td>\n",
       "    </tr>\n",
       "    <tr>\n",
       "      <th>1272014</th>\n",
       "      <td>James</td>\n",
       "      <td>Hunter</td>\n",
       "      <td>Kelly</td>\n",
       "      <td>217851.05</td>\n",
       "      <td>New York</td>\n",
       "    </tr>\n",
       "    <tr>\n",
       "      <th>1448538</th>\n",
       "      <td>Stacy</td>\n",
       "      <td>Chavez</td>\n",
       "      <td>NaN</td>\n",
       "      <td>216961.08</td>\n",
       "      <td>West Virginia</td>\n",
       "    </tr>\n",
       "  </tbody>\n",
       "</table>\n",
       "</div>"
      ],
      "text/plain": [
       "        First Name   Last Name  ...    Salary  Home Address: State/Province\n",
       "3905190    Destiny       Lyons  ... 229539.74                          Utah\n",
       "3177489  Alexander   Patterson  ... 228738.80                      Virginia\n",
       "2315870     Daniel    Hamilton  ... 228378.05                   Mississippi\n",
       "3655643    Derrick  Pennington  ... 227878.70                South Carolina\n",
       "2899707       Dana    Williams  ... 224542.28                     Minnesota\n",
       "1445827        Amy       Brown  ... 223935.60                     Wisconsin\n",
       "216327    Victoria    Williams  ... 223854.54                         Idaho\n",
       "3790066      Misty       Jones  ... 221394.59                    New Mexico\n",
       "1272014      James      Hunter  ... 217851.05                      New York\n",
       "1448538      Stacy      Chavez  ... 216961.08                 West Virginia\n",
       "\n",
       "[10 rows x 5 columns]"
      ]
     },
     "execution_count": 27,
     "metadata": {
      "tags": []
     },
     "output_type": "execute_result"
    }
   ],
   "source": [
    "df.nlargest(10,['Salary'])[['First Name', 'Last Name', 'Middle Name', 'Salary','Home Address: State/Province']]"
   ]
  },
  {
   "cell_type": "markdown",
   "metadata": {
    "colab_type": "text",
    "id": "jnfDb43q4aa4"
   },
   "source": [
    "# Which state has the highest collective salary? "
   ]
  },
  {
   "cell_type": "markdown",
   "metadata": {
    "colab_type": "text",
    "id": "PY73ZX5W4aa5"
   },
   "source": [
    "In order to find the highest collective salary of any state, we can first group the data by state and then we can compute the total income per state. This can be easily done in 2 ways. \\\n",
    "Although we just want the highest collective salary of one state, I have shown the first 5 states for illustrative purpose. "
   ]
  },
  {
   "cell_type": "code",
   "execution_count": 28,
   "metadata": {
    "colab": {
     "base_uri": "https://localhost:8080/",
     "height": 204
    },
    "colab_type": "code",
    "id": "HwwnzSi84aa9",
    "outputId": "4a2ab276-cbda-4d3f-bc44-f7ee98226c55"
   },
   "outputs": [
    {
     "data": {
      "text/html": [
       "<div>\n",
       "<style scoped>\n",
       "    .dataframe tbody tr th:only-of-type {\n",
       "        vertical-align: middle;\n",
       "    }\n",
       "\n",
       "    .dataframe tbody tr th {\n",
       "        vertical-align: top;\n",
       "    }\n",
       "\n",
       "    .dataframe thead th {\n",
       "        text-align: right;\n",
       "    }\n",
       "</style>\n",
       "<table border=\"1\" class=\"dataframe\">\n",
       "  <thead>\n",
       "    <tr style=\"text-align: right;\">\n",
       "      <th></th>\n",
       "      <th>Home Address: State/Province</th>\n",
       "      <th>Total Income per state</th>\n",
       "    </tr>\n",
       "  </thead>\n",
       "  <tbody>\n",
       "    <tr>\n",
       "      <th>0</th>\n",
       "      <td>Alabama</td>\n",
       "      <td>4388155148.80</td>\n",
       "    </tr>\n",
       "    <tr>\n",
       "      <th>1</th>\n",
       "      <td>Alaska</td>\n",
       "      <td>4428274609.39</td>\n",
       "    </tr>\n",
       "    <tr>\n",
       "      <th>2</th>\n",
       "      <td>Arizona</td>\n",
       "      <td>4454222888.07</td>\n",
       "    </tr>\n",
       "    <tr>\n",
       "      <th>3</th>\n",
       "      <td>Arkansas</td>\n",
       "      <td>4397547861.36</td>\n",
       "    </tr>\n",
       "    <tr>\n",
       "      <th>4</th>\n",
       "      <td>California</td>\n",
       "      <td>4411456767.44</td>\n",
       "    </tr>\n",
       "  </tbody>\n",
       "</table>\n",
       "</div>"
      ],
      "text/plain": [
       "  Home Address: State/Province  Total Income per state\n",
       "0                      Alabama           4388155148.80\n",
       "1                       Alaska           4428274609.39\n",
       "2                      Arizona           4454222888.07\n",
       "3                     Arkansas           4397547861.36\n",
       "4                   California           4411456767.44"
      ]
     },
     "execution_count": 28,
     "metadata": {
      "tags": []
     },
     "output_type": "execute_result"
    }
   ],
   "source": [
    "collective_state_salary= df.groupby('Home Address: State/Province').agg({'Salary':['sum']})[:5]\n",
    "collective_state_salary.columns = ['Total Income per state']\n",
    "collective_state_salary = collective_state_salary.reset_index()\n",
    "collective_state_salary"
   ]
  },
  {
   "cell_type": "markdown",
   "metadata": {
    "colab_type": "text",
    "id": "CM6076td4abF"
   },
   "source": [
    "# Which state has the most employees working at MegaCorp?"
   ]
  },
  {
   "cell_type": "code",
   "execution_count": 29,
   "metadata": {
    "colab": {
     "base_uri": "https://localhost:8080/",
     "height": 204
    },
    "colab_type": "code",
    "id": "qXV8G69z4abO",
    "outputId": "ba0aebdc-33c9-4733-c7c7-dfb9ef6a3a5d"
   },
   "outputs": [
    {
     "data": {
      "text/html": [
       "<div>\n",
       "<style scoped>\n",
       "    .dataframe tbody tr th:only-of-type {\n",
       "        vertical-align: middle;\n",
       "    }\n",
       "\n",
       "    .dataframe tbody tr th {\n",
       "        vertical-align: top;\n",
       "    }\n",
       "\n",
       "    .dataframe thead th {\n",
       "        text-align: right;\n",
       "    }\n",
       "</style>\n",
       "<table border=\"1\" class=\"dataframe\">\n",
       "  <thead>\n",
       "    <tr style=\"text-align: right;\">\n",
       "      <th></th>\n",
       "      <th>Home Address: State/Province</th>\n",
       "    </tr>\n",
       "  </thead>\n",
       "  <tbody>\n",
       "    <tr>\n",
       "      <th>Arizona</th>\n",
       "      <td>80726</td>\n",
       "    </tr>\n",
       "    <tr>\n",
       "      <th>Rhode Island</th>\n",
       "      <td>80711</td>\n",
       "    </tr>\n",
       "    <tr>\n",
       "      <th>Hawaii</th>\n",
       "      <td>80638</td>\n",
       "    </tr>\n",
       "    <tr>\n",
       "      <th>New Hampshire</th>\n",
       "      <td>80588</td>\n",
       "    </tr>\n",
       "    <tr>\n",
       "      <th>South Carolina</th>\n",
       "      <td>80514</td>\n",
       "    </tr>\n",
       "  </tbody>\n",
       "</table>\n",
       "</div>"
      ],
      "text/plain": [
       "                Home Address: State/Province\n",
       "Arizona                                80726\n",
       "Rhode Island                           80711\n",
       "Hawaii                                 80638\n",
       "New Hampshire                          80588\n",
       "South Carolina                         80514"
      ]
     },
     "execution_count": 29,
     "metadata": {
      "tags": []
     },
     "output_type": "execute_result"
    }
   ],
   "source": [
    "pd.DataFrame(df['Home Address: State/Province'].value_counts())[:5]"
   ]
  },
  {
   "cell_type": "markdown",
   "metadata": {
    "colab_type": "text",
    "id": "P2Iambd6Hj4W"
   },
   "source": [
    "So 'Arizona' has most employees working at MegaCorp. Again, for illustrative purpose I show the top 5. "
   ]
  },
  {
   "cell_type": "code",
   "execution_count": 39,
   "metadata": {
    "colab": {
     "base_uri": "https://localhost:8080/",
     "height": 408
    },
    "colab_type": "code",
    "id": "WC53_-d74abg",
    "outputId": "a6bcb0e3-09d3-4c4f-d826-c6bc93d91591"
   },
   "outputs": [
    {
     "data": {
      "text/plain": [
       "Employee Number                       0\n",
       "SSN                                   0\n",
       "GIN                             4000000\n",
       "Employee Start Date                   0\n",
       "Work Phone Number                     0\n",
       "Work Phone Extension            1600427\n",
       "Company Email Address                 0\n",
       "Salary                                0\n",
       "First Name                            0\n",
       "Last Name                             0\n",
       "Middle Name                     2398214\n",
       "Date of Birth                         0\n",
       "Home Address: Street                  0\n",
       "Home Address: Suite             2398629\n",
       "Home Address: City                    0\n",
       "Home Address: State/Province          0\n",
       "Home Address: Country                 0\n",
       "Home Address: ZIP/Postal              0\n",
       "ADDRESS_LINE_4                  4000000\n",
       "CELL/MOBILE_NO                        0\n",
       "Employee Age                          0\n",
       "Years at Company                      0\n",
       "dtype: int64"
      ]
     },
     "execution_count": 39,
     "metadata": {
      "tags": []
     },
     "output_type": "execute_result"
    }
   ],
   "source": [
    "df.isna().sum()# just to make sure we don't have any missing info in other columns."
   ]
  }
 ],
 "metadata": {
  "accelerator": "GPU",
  "colab": {
   "collapsed_sections": [],
   "name": "techincal_interview_project.ipynb",
   "provenance": []
  },
  "kernelspec": {
   "display_name": "Python 3",
   "language": "python",
   "name": "python3"
  },
  "language_info": {
   "codemirror_mode": {
    "name": "ipython",
    "version": 3
   },
   "file_extension": ".py",
   "mimetype": "text/x-python",
   "name": "python",
   "nbconvert_exporter": "python",
   "pygments_lexer": "ipython3",
   "version": "3.7.3"
  },
  "toc": {
   "base_numbering": 1,
   "nav_menu": {},
   "number_sections": true,
   "sideBar": true,
   "skip_h1_title": false,
   "title_cell": "Table of Contents",
   "title_sidebar": "Contents",
   "toc_cell": false,
   "toc_position": {},
   "toc_section_display": true,
   "toc_window_display": false
  }
 },
 "nbformat": 4,
 "nbformat_minor": 1
}
